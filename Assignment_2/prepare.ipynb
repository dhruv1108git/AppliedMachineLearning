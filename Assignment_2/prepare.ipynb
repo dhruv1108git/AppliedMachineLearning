{
  "cells": [
    {
      "cell_type": "markdown",
      "metadata": {},
      "source": [
        "# ASSIGNMENT 1"
      ]
    },
    {
      "cell_type": "markdown",
      "metadata": {},
      "source": [
        "### Imports"
      ]
    },
    {
      "cell_type": "code",
      "execution_count": 129,
      "metadata": {},
      "outputs": [
        {
          "name": "stdout",
          "output_type": "stream",
          "text": [
            "Requirement already satisfied: seaborn in /home/dhruv/miniconda3/envs/llm/lib/python3.11/site-packages (0.13.2)\n",
            "Requirement already satisfied: nltk in /home/dhruv/miniconda3/envs/llm/lib/python3.11/site-packages (3.9.1)\n",
            "Requirement already satisfied: numpy!=1.24.0,>=1.20 in /home/dhruv/miniconda3/envs/llm/lib/python3.11/site-packages (from seaborn) (2.0.1)\n",
            "Requirement already satisfied: pandas>=1.2 in /home/dhruv/miniconda3/envs/llm/lib/python3.11/site-packages (from seaborn) (2.2.2)\n",
            "Requirement already satisfied: matplotlib!=3.6.1,>=3.4 in /home/dhruv/miniconda3/envs/llm/lib/python3.11/site-packages (from seaborn) (3.8.4)\n",
            "Requirement already satisfied: click in /home/dhruv/miniconda3/envs/llm/lib/python3.11/site-packages (from nltk) (8.1.8)\n",
            "Requirement already satisfied: joblib in /home/dhruv/miniconda3/envs/llm/lib/python3.11/site-packages (from nltk) (1.4.2)\n",
            "Requirement already satisfied: regex>=2021.8.3 in /home/dhruv/miniconda3/envs/llm/lib/python3.11/site-packages (from nltk) (2024.11.6)\n",
            "Requirement already satisfied: tqdm in /home/dhruv/miniconda3/envs/llm/lib/python3.11/site-packages (from nltk) (4.66.4)\n",
            "Requirement already satisfied: contourpy>=1.0.1 in /home/dhruv/miniconda3/envs/llm/lib/python3.11/site-packages (from matplotlib!=3.6.1,>=3.4->seaborn) (1.2.1)\n",
            "Requirement already satisfied: cycler>=0.10 in /home/dhruv/miniconda3/envs/llm/lib/python3.11/site-packages (from matplotlib!=3.6.1,>=3.4->seaborn) (0.12.1)\n",
            "Requirement already satisfied: fonttools>=4.22.0 in /home/dhruv/miniconda3/envs/llm/lib/python3.11/site-packages (from matplotlib!=3.6.1,>=3.4->seaborn) (4.51.0)\n",
            "Requirement already satisfied: kiwisolver>=1.3.1 in /home/dhruv/miniconda3/envs/llm/lib/python3.11/site-packages (from matplotlib!=3.6.1,>=3.4->seaborn) (1.4.5)\n",
            "Requirement already satisfied: packaging>=20.0 in /home/dhruv/miniconda3/envs/llm/lib/python3.11/site-packages (from matplotlib!=3.6.1,>=3.4->seaborn) (24.0)\n",
            "Requirement already satisfied: pillow>=8 in /home/dhruv/miniconda3/envs/llm/lib/python3.11/site-packages (from matplotlib!=3.6.1,>=3.4->seaborn) (10.3.0)\n",
            "Requirement already satisfied: pyparsing>=2.3.1 in /home/dhruv/miniconda3/envs/llm/lib/python3.11/site-packages (from matplotlib!=3.6.1,>=3.4->seaborn) (3.1.2)\n",
            "Requirement already satisfied: python-dateutil>=2.7 in /home/dhruv/miniconda3/envs/llm/lib/python3.11/site-packages (from matplotlib!=3.6.1,>=3.4->seaborn) (2.9.0.post0)\n",
            "Requirement already satisfied: pytz>=2020.1 in /home/dhruv/miniconda3/envs/llm/lib/python3.11/site-packages (from pandas>=1.2->seaborn) (2024.1)\n",
            "Requirement already satisfied: tzdata>=2022.7 in /home/dhruv/miniconda3/envs/llm/lib/python3.11/site-packages (from pandas>=1.2->seaborn) (2024.1)\n",
            "Requirement already satisfied: six>=1.5 in /home/dhruv/miniconda3/envs/llm/lib/python3.11/site-packages (from python-dateutil>=2.7->matplotlib!=3.6.1,>=3.4->seaborn) (1.16.0)\n"
          ]
        }
      ],
      "source": [
        "!pip install seaborn nltk"
      ]
    },
    {
      "cell_type": "code",
      "execution_count": 130,
      "metadata": {
        "colab": {
          "base_uri": "https://localhost:8080/"
        },
        "id": "K7Wgy9rtRpnJ",
        "outputId": "19063e65-875f-4ccb-e3fb-60def48fb63b"
      },
      "outputs": [
        {
          "name": "stderr",
          "output_type": "stream",
          "text": [
            "[nltk_data] Downloading package stopwords to /home/dhruv/nltk_data...\n",
            "[nltk_data]   Package stopwords is already up-to-date!\n"
          ]
        },
        {
          "data": {
            "text/plain": [
              "True"
            ]
          },
          "execution_count": 130,
          "metadata": {},
          "output_type": "execute_result"
        }
      ],
      "source": [
        "import pandas as pd\n",
        "import numpy as np\n",
        "from sklearn.model_selection import train_test_split\n",
        "import matplotlib.pyplot as plt\n",
        "import seaborn as sns\n",
        "import re\n",
        "import string\n",
        "from nltk.corpus import stopwords\n",
        "import nltk\n",
        "nltk.download('stopwords')"
      ]
    },
    {
      "cell_type": "markdown",
      "metadata": {},
      "source": [
        "### Data Preparation\n",
        "\n",
        "- Loads and preprocesses SMS data.  \n",
        "- Converts labels to binary (spam = 1, ham = 0).  \n",
        "- Cleans text by removing special characters, stopwords, and extra spaces.  \n",
        "- Removes duplicate messages.  \n",
        "- Handles outliers based on message length.  \n",
        "- Performs exploratory data analysis (EDA) with visualizations.  \n",
        "- Prepares features like text length and word count.  \n",
        "- Splits data into train, validation, and test sets.  \n",
        "- Analyzes correlations between features and labels.  \n",
        "- Saves processed data for further use."
      ]
    },
    {
      "cell_type": "code",
      "execution_count": 131,
      "metadata": {
        "id": "mPP-deYwRwOY"
      },
      "outputs": [],
      "source": [
        "class DataPreparation:\n",
        "    def __init__(self):\n",
        "        self.stop_words = set(stopwords.words('english'))\n",
        "\n",
        "    def load_data(self, filepath):\n",
        "        \"\"\"Load SMS data from given filepath\"\"\"\n",
        "        try:\n",
        "            # Read data with tab separator\n",
        "            df = pd.read_csv(filepath, sep='\\t', names=['label', 'message'])\n",
        "\n",
        "            # Verify data format\n",
        "            print(\"\\nInitial data shape:\", df.shape)\n",
        "            print(\"\\nSample of loaded data:\")\n",
        "            print(df.head())\n",
        "\n",
        "            # Convert labels to standard format\n",
        "            df['label'] = df['label'].str.lower()  # Convert to lowercase\n",
        "            if not all(df['label'].isin(['ham', 'spam'])):\n",
        "                raise ValueError(\"Labels must be either 'ham' or 'spam'\")\n",
        "\n",
        "            # Convert labels to numeric (0 for ham, 1 for spam)\n",
        "            df['label'] = (df['label'] == 'spam').astype(int)\n",
        "\n",
        "            # Check for missing values\n",
        "            missing = df.isnull().sum()\n",
        "            if missing.any():\n",
        "                print(\"\\nWarning: Found missing values:\")\n",
        "                print(missing[missing > 0])\n",
        "\n",
        "                # Fill missing messages with empty string\n",
        "                df['message'] = df['message'].fillna('')\n",
        "\n",
        "            print(f\"\\nLoaded {len(df)} messages\")\n",
        "            print(\"\\nLabel distribution:\")\n",
        "            print(df['label'].value_counts(normalize=True))\n",
        "            print(\"\\nLabel mapping: 0=ham, 1=spam\")\n",
        "\n",
        "            return df\n",
        "        except Exception as e:\n",
        "            print(f\"Error loading data: {str(e)}\")\n",
        "            raise\n",
        "\n",
        "    def clean_text(self, text):\n",
        "        \"\"\"Clean text data\"\"\"\n",
        "        try:\n",
        "            # Handle empty or NaN values\n",
        "            if pd.isna(text) or str(text).strip() == '':\n",
        "                print(f\"Warning: Empty text found\")\n",
        "                return ''\n",
        "\n",
        "            # Convert to string and lowercase\n",
        "            text = str(text).lower()\n",
        "\n",
        "            # Remove special characters and digits\n",
        "            text = re.sub(r'[^a-zA-Z\\s]', ' ', text)\n",
        "\n",
        "            # Remove extra whitespace\n",
        "            text = ' '.join(text.split())\n",
        "\n",
        "            # Remove stopwords\n",
        "            if text:  # Only if text is not empty\n",
        "                words = text.split()\n",
        "                words = [w for w in words if w not in self.stop_words]\n",
        "                text = ' '.join(words)\n",
        "\n",
        "            # If after cleaning text is empty, return placeholder\n",
        "            if not text.strip():\n",
        "                return 'empty_message'\n",
        "\n",
        "            return text\n",
        "        except Exception as e:\n",
        "            print(f\"Error cleaning text: {str(e)}\")\n",
        "            return 'error_in_cleaning'\n",
        "\n",
        "    def remove_duplicates(self, df):\n",
        "        \"\"\"Remove duplicate messages\"\"\"\n",
        "        initial_size = len(df)\n",
        "        df = df.drop_duplicates(subset=['message'])\n",
        "        final_size = len(df)\n",
        "        print(f\"Removed {initial_size - final_size} duplicate messages\")\n",
        "        return df\n",
        "\n",
        "    def handle_outliers(self, df):\n",
        "        \"\"\"Handle outlier messages based on length\"\"\"\n",
        "        df['message_length'] = df['message'].str.len()\n",
        "        Q1 = df['message_length'].quantile(0.25)\n",
        "        Q3 = df['message_length'].quantile(0.75)\n",
        "        IQR = Q3 - Q1\n",
        "        df = df[\n",
        "            (df['message_length'] >= Q1 - 1.5 * IQR) &\n",
        "            (df['message_length'] <= Q3 + 1.5 * IQR)\n",
        "        ]\n",
        "        df = df.drop('message_length', axis=1)\n",
        "        return df\n",
        "\n",
        "    def analyze_data(self, df):\n",
        "        \"\"\"Perform exploratory data analysis\"\"\"\n",
        "        print(\"\\nPerforming EDA...\")\n",
        "\n",
        "        # Message length distribution\n",
        "        df['message_length'] = df['message'].str.len()\n",
        "\n",
        "        # Plot distributions\n",
        "        fig, (ax1, ax2) = plt.subplots(1, 2, figsize=(15, 5))\n",
        "\n",
        "        # Label distribution\n",
        "        sns.countplot(x='label', data=df, ax=ax1)\n",
        "        ax1.set_title('Distribution of Labels')\n",
        "\n",
        "        # Message length by label\n",
        "        sns.boxplot(x='label', y='message_length', data=df, ax=ax2)\n",
        "        ax2.set_title('Message Length by Label')\n",
        "\n",
        "        plt.tight_layout()\n",
        "        plt.savefig('eda_plots.png')\n",
        "        plt.close()\n",
        "\n",
        "        # Print statistics\n",
        "        print(\"\\nLabel Distribution:\")\n",
        "        print(df['label'].value_counts(normalize=True))\n",
        "\n",
        "        print(\"\\nMessage Length Statistics:\")\n",
        "        print(df.groupby('label')['message_length'].describe())\n",
        "\n",
        "        df = df.drop('message_length', axis=1)\n",
        "        return df\n",
        "\n",
        "    def prepare_features(self, df):\n",
        "        \"\"\"Prepare features\"\"\"\n",
        "        print(\"\\nPreparing features...\")\n",
        "\n",
        "        # Ensure message column is string type\n",
        "        df['message'] = df['message'].fillna('').astype(str)\n",
        "\n",
        "        # Clean messages\n",
        "        print(\"Cleaning text data...\")\n",
        "        df['processed_text'] = df['message'].apply(self.clean_text)\n",
        "\n",
        "        # Check for empty processed texts\n",
        "        empty_texts = df['processed_text'].str.strip() == ''\n",
        "        if empty_texts.any():\n",
        "            print(f\"Warning: Found {empty_texts.sum()} empty texts after processing\")\n",
        "            # Replace empty texts with placeholder\n",
        "            df.loc[empty_texts, 'processed_text'] = 'empty_message'\n",
        "\n",
        "        # Verify processed data\n",
        "        print(\"\\nSample of processed texts:\")\n",
        "        print(df[['message', 'processed_text']].head())\n",
        "\n",
        "        # Count unique processed texts\n",
        "        n_unique = df['processed_text'].nunique()\n",
        "        print(f\"\\nNumber of unique processed texts: {n_unique}\")\n",
        "\n",
        "        return df\n",
        "\n",
        "    def split_data(self, df, train_size=0.7, val_size=0.15, random_state=42):\n",
        "\n",
        "        \"\"\"Split data into train/validation/test sets\"\"\"\n",
        "        print(\"\\nSplitting data...\")\n",
        "\n",
        "        # Verify data before splitting\n",
        "        if df['processed_text'].isna().any():\n",
        "            raise ValueError(\"Found NaN values in processed_text\")\n",
        "\n",
        "        if df['label'].isna().any():\n",
        "            raise ValueError(\"Found NaN values in labels\")\n",
        "\n",
        "        # Verify label distribution\n",
        "        label_dist = df['label'].value_counts()\n",
        "        print(\"\\nLabel distribution before splitting:\")\n",
        "        print(label_dist)\n",
        "\n",
        "        if len(label_dist) != 2:\n",
        "            raise ValueError(f\"Expected 2 classes, found {len(label_dist)}\")\n",
        "\n",
        "        # Perform stratified split\n",
        "        train_df, temp_df = train_test_split(\n",
        "            df,\n",
        "            train_size=train_size,\n",
        "            random_state=random_state\n",
        "        )\n",
        "\n",
        "        # Split temp into validation and test\n",
        "        val_size_adjusted = val_size / (1 - train_size)\n",
        "        val_df, test_df = train_test_split(\n",
        "            temp_df,\n",
        "            train_size=val_size_adjusted,\n",
        "            random_state=random_state\n",
        "        )\n",
        "\n",
        "        # Verify splits\n",
        "        print(f\"\\nTrain set: {len(train_df)} samples\")\n",
        "        print(f\"Validation set: {len(val_df)} samples\")\n",
        "        print(f\"Test set: {len(test_df)} samples\")\n",
        "\n",
        "        # Verify label distribution in splits\n",
        "        print(\"\\nLabel distribution in splits:\")\n",
        "        print(\"Train:\", train_df['label'].value_counts(normalize=True))\n",
        "        print(\"Validation:\", val_df['label'].value_counts(normalize=True))\n",
        "        print(\"Test:\", test_df['label'].value_counts(normalize=True))\n",
        "\n",
        "        return train_df, val_df, test_df\n",
        "\n",
        "    def save_splits(self, train_df, val_df, test_df):\n",
        "        \"\"\"Save the data splits\"\"\"\n",
        "        # Final verification\n",
        "        for name, df in [('train', train_df), ('validation', val_df), ('test', test_df)]:\n",
        "            # Check for required columns\n",
        "            if not {'label', 'processed_text'}.issubset(df.columns):\n",
        "                raise ValueError(f\"Missing required columns in {name} set\")\n",
        "\n",
        "            # Check for empty texts\n",
        "            empty = df['processed_text'].str.strip() == ''\n",
        "            if empty.any():\n",
        "                print(f\"Warning: Found {empty.sum()} empty texts in {name} set\")\n",
        "\n",
        "            # Check label distribution\n",
        "            print(f\"\\n{name.capitalize()} set label distribution:\")\n",
        "            print(df['label'].value_counts(normalize=True))\n",
        "\n",
        "        # Save to CSV\n",
        "        train_df.to_csv('train.csv', index=False)\n",
        "        val_df.to_csv('validation.csv', index=False)\n",
        "        test_df.to_csv('test.csv', index=False)\n",
        "\n",
        "        print(\"\\nData splits saved successfully\")\n",
        "\n",
        "    def analyze_correlations(self, df):\n",
        "        \"\"\"Analyze feature correlations and interactions\"\"\"\n",
        "        print(\"\\nAnalyzing feature correlations...\")\n",
        "\n",
        "        # Create basic text features\n",
        "        df['text_length'] = df['processed_text'].str.len()\n",
        "        df['word_count'] = df['processed_text'].str.split().str.len()\n",
        "        df['avg_word_length'] = df['text_length'] / df['word_count']\n",
        "\n",
        "        # Analyze correlations with target\n",
        "        numeric_features = ['text_length', 'word_count', 'avg_word_length']\n",
        "        correlations = df[numeric_features + ['label']].corr()['label'].sort_values()\n",
        "\n",
        "        plt.figure(figsize=(10, 6))\n",
        "        correlations.plot(kind='bar')\n",
        "        plt.title('Feature Correlations with Target')\n",
        "        plt.tight_layout()\n",
        "        plt.show()\n",
        "\n",
        "        return df\n",
        "\n",
        "    def run_preparation(self, filepath):\n",
        "        \"\"\"Run the full data preparation pipeline\"\"\"\n",
        "        print(\"Starting data preparation...\")\n",
        "\n",
        "        # Load data\n",
        "        df = self.load_data(filepath)\n",
        "\n",
        "        # Remove duplicates\n",
        "        df = self.remove_duplicates(df)\n",
        "\n",
        "        # Handle outliers\n",
        "        df = self.handle_outliers(df)\n",
        "\n",
        "        # Analyze data\n",
        "        df = self.analyze_data(df)\n",
        "\n",
        "        # Prepare features\n",
        "        df = self.prepare_features(df)\n",
        "\n",
        "        # Add correlation analysis\n",
        "        df = self.analyze_correlations(df)\n",
        "\n",
        "        # Split data\n",
        "        train_df, val_df, test_df = self.split_data(df)\n",
        "\n",
        "        # Save splits\n",
        "        self.save_splits(train_df, val_df, test_df)\n",
        "\n",
        "        return train_df, val_df, test_df\n"
      ]
    },
    {
      "cell_type": "code",
      "execution_count": 132,
      "metadata": {
        "colab": {
          "base_uri": "https://localhost:8080/",
          "height": 1000
        },
        "id": "SlQa9h-4Rzpr",
        "outputId": "f568fac1-3652-4683-de68-d380a2fa6a54"
      },
      "outputs": [
        {
          "name": "stdout",
          "output_type": "stream",
          "text": [
            "Starting data preparation...\n",
            "\n",
            "Initial data shape: (5572, 2)\n",
            "\n",
            "Sample of loaded data:\n",
            "  label                                            message\n",
            "0   ham  Go until jurong point, crazy.. Available only ...\n",
            "1   ham                      Ok lar... Joking wif u oni...\n",
            "2  spam  Free entry in 2 a wkly comp to win FA Cup fina...\n",
            "3   ham  U dun say so early hor... U c already then say...\n",
            "4   ham  Nah I don't think he goes to usf, he lives aro...\n",
            "\n",
            "Loaded 5572 messages\n",
            "\n",
            "Label distribution:\n",
            "label\n",
            "0    0.865937\n",
            "1    0.134063\n",
            "Name: proportion, dtype: float64\n",
            "\n",
            "Label mapping: 0=ham, 1=spam\n",
            "Removed 403 duplicate messages\n",
            "\n",
            "Performing EDA...\n",
            "\n",
            "Label Distribution:\n",
            "label\n",
            "0    0.872086\n",
            "1    0.127914\n",
            "Name: proportion, dtype: float64\n",
            "\n",
            "Message Length Statistics:\n",
            "        count        mean        std   min    25%    50%    75%    max\n",
            "label                                                                 \n",
            "0      4452.0   66.897350  43.656041   2.0   33.0   52.0   88.0  243.0\n",
            "1       653.0  137.704441  29.821348  13.0  132.0  148.0  157.0  223.0\n",
            "\n",
            "Preparing features...\n",
            "Cleaning text data...\n",
            "\n",
            "Sample of processed texts:\n",
            "                                             message  \\\n",
            "0  Go until jurong point, crazy.. Available only ...   \n",
            "1                      Ok lar... Joking wif u oni...   \n",
            "2  Free entry in 2 a wkly comp to win FA Cup fina...   \n",
            "3  U dun say so early hor... U c already then say...   \n",
            "4  Nah I don't think he goes to usf, he lives aro...   \n",
            "\n",
            "                                      processed_text  \n",
            "0  go jurong point crazy available bugis n great ...  \n",
            "1                            ok lar joking wif u oni  \n",
            "2  free entry wkly comp win fa cup final tkts st ...  \n",
            "3                u dun say early hor u c already say  \n",
            "4             nah think goes usf lives around though  \n",
            "\n",
            "Number of unique processed texts: 4994\n",
            "\n",
            "Analyzing feature correlations...\n"
          ]
        },
        {
          "data": {
            "image/png": "[encoded data removed]",
            "text/plain": [
              "<Figure size 1000x600 with 1 Axes>"
            ]
          },
          "metadata": {},
          "output_type": "display_data"
        },
        {
          "name": "stdout",
          "output_type": "stream",
          "text": [
            "\n",
            "Splitting data...\n",
            "\n",
            "Label distribution before splitting:\n",
            "label\n",
            "0    4452\n",
            "1     653\n",
            "Name: count, dtype: int64\n",
            "\n",
            "Train set: 3573 samples\n",
            "Validation set: 765 samples\n",
            "Test set: 767 samples\n",
            "\n",
            "Label distribution in splits:\n",
            "Train: label\n",
            "0    0.877134\n",
            "1    0.122866\n",
            "Name: proportion, dtype: float64\n",
            "Validation: label\n",
            "0    0.852288\n",
            "1    0.147712\n",
            "Name: proportion, dtype: float64\n",
            "Test: label\n",
            "0    0.868318\n",
            "1    0.131682\n",
            "Name: proportion, dtype: float64\n",
            "\n",
            "Train set label distribution:\n",
            "label\n",
            "0    0.877134\n",
            "1    0.122866\n",
            "Name: proportion, dtype: float64\n",
            "\n",
            "Validation set label distribution:\n",
            "label\n",
            "0    0.852288\n",
            "1    0.147712\n",
            "Name: proportion, dtype: float64\n",
            "\n",
            "Test set label distribution:\n",
            "label\n",
            "0    0.868318\n",
            "1    0.131682\n",
            "Name: proportion, dtype: float64\n",
            "\n",
            "Data splits saved successfully\n"
          ]
        }
      ],
      "source": [
        "data_prep = DataPreparation()\n",
        "train_df, val_df, test_df = data_prep.run_preparation(\"SMSSpamCollection\")"
      ]
    },
    {
      "cell_type": "code",
      "execution_count": null,
      "metadata": {},
      "outputs": [],
      "source": []
    },
    {
      "cell_type": "code",
      "execution_count": null,
      "metadata": {},
      "outputs": [],
      "source": []
    },
    {
      "cell_type": "markdown",
      "metadata": {},
      "source": [
        "# ASSIGNMENT 2"
      ]
    },
    {
      "cell_type": "code",
      "execution_count": 134,
      "metadata": {},
      "outputs": [
        {
          "name": "stdout",
          "output_type": "stream",
          "text": [
            "Saving raw data...\n"
          ]
        },
        {
          "name": "stdout",
          "output_type": "stream",
          "text": [
            "Raw data saved to raw_data.csv\n"
          ]
        }
      ],
      "source": [
        "# ========== DVC Implementation ==========\n",
        "import os\n",
        "\n",
        "# Save the raw data as raw_data.csv\n",
        "print(\"Saving raw data...\")\n",
        "raw_data = pd.read_csv(\"SMSSpamCollection\", sep='\\t', names=['label', 'message'])\n",
        "raw_data.to_csv(\"raw_data.csv\", index=False)\n",
        "print(\"Raw data saved to raw_data.csv\")"
      ]
    },
    {
      "cell_type": "code",
      "execution_count": 135,
      "metadata": {},
      "outputs": [
        {
          "name": "stdout",
          "output_type": "stream",
          "text": [
            "Requirement already satisfied: dvc in /home/dhruv/miniconda3/envs/llm/lib/python3.11/site-packages (3.59.1)\n",
            "Requirement already satisfied: attrs>=22.2.0 in /home/dhruv/miniconda3/envs/llm/lib/python3.11/site-packages (from dvc) (23.2.0)\n",
            "Requirement already satisfied: celery in /home/dhruv/miniconda3/envs/llm/lib/python3.11/site-packages (from dvc) (5.4.0)\n",
            "Requirement already satisfied: colorama>=0.3.9 in /home/dhruv/miniconda3/envs/llm/lib/python3.11/site-packages (from dvc) (0.4.6)\n",
            "Requirement already satisfied: configobj>=5.0.9 in /home/dhruv/miniconda3/envs/llm/lib/python3.11/site-packages (from dvc) (5.0.9)\n",
            "Requirement already satisfied: distro>=1.3 in /home/dhruv/miniconda3/envs/llm/lib/python3.11/site-packages (from dvc) (1.9.0)\n",
            "Requirement already satisfied: dpath<3,>=2.1.0 in /home/dhruv/miniconda3/envs/llm/lib/python3.11/site-packages (from dvc) (2.2.0)\n",
            "Requirement already satisfied: dulwich in /home/dhruv/miniconda3/envs/llm/lib/python3.11/site-packages (from dvc) (0.22.7)\n",
            "Requirement already satisfied: dvc-data<3.17,>=3.16.2 in /home/dhruv/miniconda3/envs/llm/lib/python3.11/site-packages (from dvc) (3.16.9)\n",
            "Requirement already satisfied: dvc-http>=2.29.0 in /home/dhruv/miniconda3/envs/llm/lib/python3.11/site-packages (from dvc) (2.32.0)\n",
            "Requirement already satisfied: dvc-objects in /home/dhruv/miniconda3/envs/llm/lib/python3.11/site-packages (from dvc) (5.1.0)\n",
            "Requirement already satisfied: dvc-render<2,>=1.0.1 in /home/dhruv/miniconda3/envs/llm/lib/python3.11/site-packages (from dvc) (1.0.2)\n",
            "Requirement already satisfied: dvc-studio-client<1,>=0.21 in /home/dhruv/miniconda3/envs/llm/lib/python3.11/site-packages (from dvc) (0.21.0)\n",
            "Requirement already satisfied: dvc-task<1,>=0.3.0 in /home/dhruv/miniconda3/envs/llm/lib/python3.11/site-packages (from dvc) (0.40.2)\n",
            "Requirement already satisfied: flatten_dict<1,>=0.4.1 in /home/dhruv/miniconda3/envs/llm/lib/python3.11/site-packages (from dvc) (0.4.2)\n",
            "Requirement already satisfied: flufl.lock<9,>=8.1.0 in /home/dhruv/miniconda3/envs/llm/lib/python3.11/site-packages (from dvc) (8.1.0)\n",
            "Requirement already satisfied: fsspec>=2024.2.0 in /home/dhruv/miniconda3/envs/llm/lib/python3.11/site-packages (from dvc) (2024.12.0)\n",
            "Requirement already satisfied: funcy>=1.14 in /home/dhruv/miniconda3/envs/llm/lib/python3.11/site-packages (from dvc) (2.0)\n",
            "Requirement already satisfied: grandalf<1,>=0.7 in /home/dhruv/miniconda3/envs/llm/lib/python3.11/site-packages (from dvc) (0.8)\n",
            "Requirement already satisfied: gto<2,>=1.6.0 in /home/dhruv/miniconda3/envs/llm/lib/python3.11/site-packages (from dvc) (1.7.2)\n",
            "Requirement already satisfied: hydra-core>=1.1 in /home/dhruv/miniconda3/envs/llm/lib/python3.11/site-packages (from dvc) (1.3.2)\n",
            "Requirement already satisfied: iterative-telemetry>=0.0.7 in /home/dhruv/miniconda3/envs/llm/lib/python3.11/site-packages (from dvc) (0.0.10)\n",
            "Requirement already satisfied: kombu in /home/dhruv/miniconda3/envs/llm/lib/python3.11/site-packages (from dvc) (5.4.0)\n",
            "Requirement already satisfied: networkx>=2.5 in /home/dhruv/miniconda3/envs/llm/lib/python3.11/site-packages (from dvc) (3.4.2)\n",
            "Requirement already satisfied: omegaconf in /home/dhruv/miniconda3/envs/llm/lib/python3.11/site-packages (from dvc) (2.3.0)\n",
            "Requirement already satisfied: packaging>=19 in /home/dhruv/miniconda3/envs/llm/lib/python3.11/site-packages (from dvc) (24.0)\n",
            "Requirement already satisfied: pathspec>=0.10.3 in /home/dhruv/miniconda3/envs/llm/lib/python3.11/site-packages (from dvc) (0.12.1)\n",
            "Requirement already satisfied: platformdirs<5,>=3.1.1 in /home/dhruv/miniconda3/envs/llm/lib/python3.11/site-packages (from dvc) (4.3.6)\n",
            "Requirement already satisfied: psutil>=5.8 in /home/dhruv/miniconda3/envs/llm/lib/python3.11/site-packages (from dvc) (6.1.1)\n",
            "Requirement already satisfied: pydot>=1.2.4 in /home/dhruv/miniconda3/envs/llm/lib/python3.11/site-packages (from dvc) (3.0.4)\n",
            "Requirement already satisfied: pygtrie>=2.3.2 in /home/dhruv/miniconda3/envs/llm/lib/python3.11/site-packages (from dvc) (2.5.0)\n",
            "Requirement already satisfied: pyparsing>=2.4.7 in /home/dhruv/miniconda3/envs/llm/lib/python3.11/site-packages (from dvc) (3.1.2)\n",
            "Requirement already satisfied: requests>=2.22 in /home/dhruv/miniconda3/envs/llm/lib/python3.11/site-packages (from dvc) (2.31.0)\n",
            "Requirement already satisfied: rich>=12 in /home/dhruv/miniconda3/envs/llm/lib/python3.11/site-packages (from dvc) (13.7.1)\n",
            "Requirement already satisfied: ruamel.yaml>=0.17.11 in /home/dhruv/miniconda3/envs/llm/lib/python3.11/site-packages (from dvc) (0.18.10)\n",
            "Requirement already satisfied: scmrepo<4,>=3.3.8 in /home/dhruv/miniconda3/envs/llm/lib/python3.11/site-packages (from dvc) (3.3.10)\n",
            "Requirement already satisfied: shortuuid>=0.5 in /home/dhruv/miniconda3/envs/llm/lib/python3.11/site-packages (from dvc) (1.0.13)\n",
            "Requirement already satisfied: shtab<2,>=1.3.4 in /home/dhruv/miniconda3/envs/llm/lib/python3.11/site-packages (from dvc) (1.7.1)\n",
            "Requirement already satisfied: tabulate>=0.8.7 in /home/dhruv/miniconda3/envs/llm/lib/python3.11/site-packages (from dvc) (0.9.0)\n",
            "Requirement already satisfied: tomlkit>=0.11.1 in /home/dhruv/miniconda3/envs/llm/lib/python3.11/site-packages (from dvc) (0.13.2)\n",
            "Requirement already satisfied: tqdm<5,>=4.63.1 in /home/dhruv/miniconda3/envs/llm/lib/python3.11/site-packages (from dvc) (4.66.4)\n",
            "Requirement already satisfied: voluptuous>=0.11.7 in /home/dhruv/miniconda3/envs/llm/lib/python3.11/site-packages (from dvc) (0.15.2)\n",
            "Requirement already satisfied: zc.lockfile>=1.2.1 in /home/dhruv/miniconda3/envs/llm/lib/python3.11/site-packages (from dvc) (3.0.post1)\n",
            "Requirement already satisfied: dictdiffer>=0.8.1 in /home/dhruv/miniconda3/envs/llm/lib/python3.11/site-packages (from dvc-data<3.17,>=3.16.2->dvc) (0.9.0)\n",
            "Requirement already satisfied: diskcache>=5.2.1 in /home/dhruv/miniconda3/envs/llm/lib/python3.11/site-packages (from dvc-data<3.17,>=3.16.2->dvc) (5.6.3)\n",
            "Requirement already satisfied: sqltrie<1,>=0.11.0 in /home/dhruv/miniconda3/envs/llm/lib/python3.11/site-packages (from dvc-data<3.17,>=3.16.2->dvc) (0.11.2)\n",
            "Requirement already satisfied: orjson<4,>=3 in /home/dhruv/miniconda3/envs/llm/lib/python3.11/site-packages (from dvc-data<3.17,>=3.16.2->dvc) (3.10.3)\n",
            "Requirement already satisfied: aiohttp-retry>=2.5.0 in /home/dhruv/miniconda3/envs/llm/lib/python3.11/site-packages (from dvc-http>=2.29.0->dvc) (2.9.1)\n",
            "Requirement already satisfied: billiard<5.0,>=4.2.0 in /home/dhruv/miniconda3/envs/llm/lib/python3.11/site-packages (from celery->dvc) (4.2.0)\n",
            "Requirement already satisfied: vine<6.0,>=5.1.0 in /home/dhruv/miniconda3/envs/llm/lib/python3.11/site-packages (from celery->dvc) (5.1.0)\n",
            "Requirement already satisfied: click<9.0,>=8.1.2 in /home/dhruv/miniconda3/envs/llm/lib/python3.11/site-packages (from celery->dvc) (8.1.8)\n",
            "Requirement already satisfied: click-didyoumean>=0.3.0 in /home/dhruv/miniconda3/envs/llm/lib/python3.11/site-packages (from celery->dvc) (0.3.1)\n",
            "Requirement already satisfied: click-repl>=0.2.0 in /home/dhruv/miniconda3/envs/llm/lib/python3.11/site-packages (from celery->dvc) (0.3.0)\n",
            "Requirement already satisfied: click-plugins>=1.1.1 in /home/dhruv/miniconda3/envs/llm/lib/python3.11/site-packages (from celery->dvc) (1.1.1)\n",
            "Requirement already satisfied: tzdata>=2022.7 in /home/dhruv/miniconda3/envs/llm/lib/python3.11/site-packages (from celery->dvc) (2024.1)\n",
            "Requirement already satisfied: python-dateutil>=2.8.2 in /home/dhruv/miniconda3/envs/llm/lib/python3.11/site-packages (from celery->dvc) (2.9.0.post0)\n",
            "Requirement already satisfied: six<2.0,>=1.12 in /home/dhruv/miniconda3/envs/llm/lib/python3.11/site-packages (from flatten_dict<1,>=0.4.1->dvc) (1.16.0)\n",
            "Requirement already satisfied: atpublic in /home/dhruv/miniconda3/envs/llm/lib/python3.11/site-packages (from flufl.lock<9,>=8.1.0->dvc) (5.1)\n",
            "Requirement already satisfied: entrypoints in /home/dhruv/miniconda3/envs/llm/lib/python3.11/site-packages (from gto<2,>=1.6.0->dvc) (0.4)\n",
            "Requirement already satisfied: pydantic!=2.0.0,<3,>=1.9.0 in /home/dhruv/miniconda3/envs/llm/lib/python3.11/site-packages (from gto<2,>=1.6.0->dvc) (2.7.1)\n",
            "Requirement already satisfied: semver>=2.13.0 in /home/dhruv/miniconda3/envs/llm/lib/python3.11/site-packages (from gto<2,>=1.6.0->dvc) (3.0.4)\n",
            "Requirement already satisfied: typer>=0.4.1 in /home/dhruv/miniconda3/envs/llm/lib/python3.11/site-packages (from gto<2,>=1.6.0->dvc) (0.12.3)\n",
            "Requirement already satisfied: antlr4-python3-runtime==4.9.* in /home/dhruv/miniconda3/envs/llm/lib/python3.11/site-packages (from hydra-core>=1.1->dvc) (4.9.3)\n",
            "Requirement already satisfied: appdirs in /home/dhruv/miniconda3/envs/llm/lib/python3.11/site-packages (from iterative-telemetry>=0.0.7->dvc) (1.4.4)\n",
            "Requirement already satisfied: filelock in /home/dhruv/miniconda3/envs/llm/lib/python3.11/site-packages (from iterative-telemetry>=0.0.7->dvc) (3.16.1)\n",
            "Requirement already satisfied: amqp<6.0.0,>=5.1.1 in /home/dhruv/miniconda3/envs/llm/lib/python3.11/site-packages (from kombu->dvc) (5.2.0)\n",
            "Requirement already satisfied: PyYAML>=5.1.0 in /home/dhruv/miniconda3/envs/llm/lib/python3.11/site-packages (from omegaconf->dvc) (6.0.1)\n",
            "Requirement already satisfied: charset-normalizer<4,>=2 in /home/dhruv/miniconda3/envs/llm/lib/python3.11/site-packages (from requests>=2.22->dvc) (3.3.2)\n",
            "Requirement already satisfied: idna<4,>=2.5 in /home/dhruv/miniconda3/envs/llm/lib/python3.11/site-packages (from requests>=2.22->dvc) (3.7)\n",
            "Requirement already satisfied: urllib3<3,>=1.21.1 in /home/dhruv/miniconda3/envs/llm/lib/python3.11/site-packages (from requests>=2.22->dvc) (1.26.18)\n",
            "Requirement already satisfied: certifi>=2017.4.17 in /home/dhruv/miniconda3/envs/llm/lib/python3.11/site-packages (from requests>=2.22->dvc) (2024.12.14)\n",
            "Requirement already satisfied: markdown-it-py>=2.2.0 in /home/dhruv/miniconda3/envs/llm/lib/python3.11/site-packages (from rich>=12->dvc) (3.0.0)\n",
            "Requirement already satisfied: pygments<3.0.0,>=2.13.0 in /home/dhruv/miniconda3/envs/llm/lib/python3.11/site-packages (from rich>=12->dvc) (2.18.0)\n",
            "Requirement already satisfied: ruamel.yaml.clib>=0.2.7 in /home/dhruv/miniconda3/envs/llm/lib/python3.11/site-packages (from ruamel.yaml>=0.17.11->dvc) (0.2.12)\n",
            "Requirement already satisfied: gitpython>3 in /home/dhruv/miniconda3/envs/llm/lib/python3.11/site-packages (from scmrepo<4,>=3.3.8->dvc) (3.1.43)\n",
            "Requirement already satisfied: pygit2>=1.14.0 in /home/dhruv/miniconda3/envs/llm/lib/python3.11/site-packages (from scmrepo<4,>=3.3.8->dvc) (1.17.0)\n",
            "Requirement already satisfied: asyncssh<3,>=2.13.1 in /home/dhruv/miniconda3/envs/llm/lib/python3.11/site-packages (from scmrepo<4,>=3.3.8->dvc) (2.20.0)\n",
            "Requirement already satisfied: setuptools in /home/dhruv/miniconda3/envs/llm/lib/python3.11/site-packages (from zc.lockfile>=1.2.1->dvc) (70.3.0)\n",
            "Requirement already satisfied: aiohttp in /home/dhruv/miniconda3/envs/llm/lib/python3.11/site-packages (from aiohttp-retry>=2.5.0->dvc-http>=2.29.0->dvc) (3.11.13)\n",
            "Requirement already satisfied: cryptography>=39.0 in /home/dhruv/miniconda3/envs/llm/lib/python3.11/site-packages (from asyncssh<3,>=2.13.1->scmrepo<4,>=3.3.8->dvc) (44.0.1)\n",
            "Requirement already satisfied: typing_extensions>=4.0.0 in /home/dhruv/miniconda3/envs/llm/lib/python3.11/site-packages (from asyncssh<3,>=2.13.1->scmrepo<4,>=3.3.8->dvc) (4.12.2)\n",
            "Requirement already satisfied: prompt-toolkit>=3.0.36 in /home/dhruv/miniconda3/envs/llm/lib/python3.11/site-packages (from click-repl>=0.2.0->celery->dvc) (3.0.47)\n",
            "Requirement already satisfied: gitdb<5,>=4.0.1 in /home/dhruv/miniconda3/envs/llm/lib/python3.11/site-packages (from gitpython>3->scmrepo<4,>=3.3.8->dvc) (4.0.11)\n",
            "Requirement already satisfied: mdurl~=0.1 in /home/dhruv/miniconda3/envs/llm/lib/python3.11/site-packages (from markdown-it-py>=2.2.0->rich>=12->dvc) (0.1.2)\n",
            "Requirement already satisfied: annotated-types>=0.4.0 in /home/dhruv/miniconda3/envs/llm/lib/python3.11/site-packages (from pydantic!=2.0.0,<3,>=1.9.0->gto<2,>=1.6.0->dvc) (0.6.0)\n",
            "Requirement already satisfied: pydantic-core==2.18.2 in /home/dhruv/miniconda3/envs/llm/lib/python3.11/site-packages (from pydantic!=2.0.0,<3,>=1.9.0->gto<2,>=1.6.0->dvc) (2.18.2)\n",
            "Requirement already satisfied: cffi>=1.17.0 in /home/dhruv/miniconda3/envs/llm/lib/python3.11/site-packages (from pygit2>=1.14.0->scmrepo<4,>=3.3.8->dvc) (1.17.1)\n",
            "Requirement already satisfied: shellingham>=1.3.0 in /home/dhruv/miniconda3/envs/llm/lib/python3.11/site-packages (from typer>=0.4.1->gto<2,>=1.6.0->dvc) (1.5.4)\n",
            "Requirement already satisfied: aiohappyeyeballs>=2.3.0 in /home/dhruv/miniconda3/envs/llm/lib/python3.11/site-packages (from aiohttp->aiohttp-retry>=2.5.0->dvc-http>=2.29.0->dvc) (2.4.6)\n",
            "Requirement already satisfied: aiosignal>=1.1.2 in /home/dhruv/miniconda3/envs/llm/lib/python3.11/site-packages (from aiohttp->aiohttp-retry>=2.5.0->dvc-http>=2.29.0->dvc) (1.3.2)\n",
            "Requirement already satisfied: frozenlist>=1.1.1 in /home/dhruv/miniconda3/envs/llm/lib/python3.11/site-packages (from aiohttp->aiohttp-retry>=2.5.0->dvc-http>=2.29.0->dvc) (1.5.0)\n",
            "Requirement already satisfied: multidict<7.0,>=4.5 in /home/dhruv/miniconda3/envs/llm/lib/python3.11/site-packages (from aiohttp->aiohttp-retry>=2.5.0->dvc-http>=2.29.0->dvc) (6.1.0)\n",
            "Requirement already satisfied: propcache>=0.2.0 in /home/dhruv/miniconda3/envs/llm/lib/python3.11/site-packages (from aiohttp->aiohttp-retry>=2.5.0->dvc-http>=2.29.0->dvc) (0.3.0)\n",
            "Requirement already satisfied: yarl<2.0,>=1.17.0 in /home/dhruv/miniconda3/envs/llm/lib/python3.11/site-packages (from aiohttp->aiohttp-retry>=2.5.0->dvc-http>=2.29.0->dvc) (1.18.3)\n",
            "Requirement already satisfied: pycparser in /home/dhruv/miniconda3/envs/llm/lib/python3.11/site-packages (from cffi>=1.17.0->pygit2>=1.14.0->scmrepo<4,>=3.3.8->dvc) (2.22)\n",
            "Requirement already satisfied: smmap<6,>=3.0.1 in /home/dhruv/miniconda3/envs/llm/lib/python3.11/site-packages (from gitdb<5,>=4.0.1->gitpython>3->scmrepo<4,>=3.3.8->dvc) (5.0.1)\n",
            "Requirement already satisfied: wcwidth in /home/dhruv/miniconda3/envs/llm/lib/python3.11/site-packages (from prompt-toolkit>=3.0.36->click-repl>=0.2.0->celery->dvc) (0.2.13)\n"
          ]
        }
      ],
      "source": [
        "!pip install dvc"
      ]
    },
    {
      "cell_type": "code",
      "execution_count": 136,
      "metadata": {},
      "outputs": [
        {
          "name": "stdout",
          "output_type": "stream",
          "text": [
            "\n",
            "Initializing DVC...\n",
            "DVC already initialized\n",
            "Current working directory: /mnt/c/Users/dhruv/Downloads/AppliedMachineLearning/Assignment_2\n",
            "\u001b[?25l\u001b[32m⠋\u001b[0m Checking graph                                       core\u001b[39m>\n",
            "Adding...                                                                       \n",
            "!\u001b[A\n",
            "Collecting files and computing hashes in raw_data.csv |0.00 [00:00,     ?file/s]\u001b[A\n",
            "                                                                                \u001b[A\n",
            "!\u001b[A\n",
            "  0% Checking cache in '/mnt/c/Users/dhruv/Downloads/AppliedMachineLearning/Assi\u001b[A\n",
            "                                                                                \u001b[A\n",
            "!\u001b[A\n",
            "  0%|          |Checking out /mnt/c/Users/dhruv/Downlo0/1 [00:00<?,    ?files/s]\u001b[A\n",
            "100% Adding...|████████████████████████████████████████|1/1 [00:00,  9.40file/s]\u001b[A\n",
            "\u001b[0m"
          ]
        }
      ],
      "source": [
        "# Initialize DVC\n",
        "print(\"\\nInitializing DVC...\")\n",
        "if not os.path.exists(\".dvc\"):\n",
        "    !dvc init --no-scm\n",
        "    print(\"DVC initialized\")\n",
        "else:\n",
        "    print(\"DVC already initialized\")\n",
        "\n",
        "# Add raw data to DVC\n",
        "# Make sure we're in the right directory\n",
        "print(\"Current working directory:\", os.getcwd())\n",
        "try:\n",
        "    !dvc add raw_data.csv\n",
        "except Exception as e:\n",
        "    print(f\"Error adding file to DVC: {e}\")"
      ]
    },
    {
      "cell_type": "code",
      "execution_count": 137,
      "metadata": {},
      "outputs": [
        {
          "name": "stdout",
          "output_type": "stream",
          "text": [
            "Data and pipelines are up to date.                                              \n",
            "\u001b[0m"
          ]
        }
      ],
      "source": [
        "!dvc status"
      ]
    },
    {
      "cell_type": "code",
      "execution_count": 138,
      "metadata": {},
      "outputs": [
        {
          "name": "stdout",
          "output_type": "stream",
          "text": [
            "/mnt/c/Users/dhruv/Downloads/AppliedMachineLearning/Assignment_2\n"
          ]
        }
      ],
      "source": [
        "!pwd"
      ]
    },
    {
      "cell_type": "code",
      "execution_count": 139,
      "metadata": {},
      "outputs": [
        {
          "name": "stdout",
          "output_type": "stream",
          "text": [
            "\n",
            "\n",
            "==== Creating first version (random_state=42) ====\n",
            "\n",
            "Initial data shape: (5572, 2)\n",
            "\n",
            "Sample of loaded data:\n",
            "  label                                            message\n",
            "0   ham  Go until jurong point, crazy.. Available only ...\n",
            "1   ham                      Ok lar... Joking wif u oni...\n",
            "2  spam  Free entry in 2 a wkly comp to win FA Cup fina...\n",
            "3   ham  U dun say so early hor... U c already then say...\n",
            "4   ham  Nah I don't think he goes to usf, he lives aro...\n",
            "\n",
            "Loaded 5572 messages\n",
            "\n",
            "Label distribution:\n",
            "label\n",
            "0    0.865937\n",
            "1    0.134063\n",
            "Name: proportion, dtype: float64\n",
            "\n",
            "Label mapping: 0=ham, 1=spam\n",
            "Removed 403 duplicate messages\n",
            "\n",
            "Performing EDA...\n",
            "\n",
            "Label Distribution:\n",
            "label\n",
            "0    0.872086\n",
            "1    0.127914\n",
            "Name: proportion, dtype: float64\n",
            "\n",
            "Message Length Statistics:\n",
            "        count        mean        std   min    25%    50%    75%    max\n",
            "label                                                                 \n",
            "0      4452.0   66.897350  43.656041   2.0   33.0   52.0   88.0  243.0\n",
            "1       653.0  137.704441  29.821348  13.0  132.0  148.0  157.0  223.0\n",
            "\n",
            "Preparing features...\n",
            "Cleaning text data...\n",
            "\n",
            "Sample of processed texts:\n",
            "                                             message  \\\n",
            "0  Go until jurong point, crazy.. Available only ...   \n",
            "1                      Ok lar... Joking wif u oni...   \n",
            "2  Free entry in 2 a wkly comp to win FA Cup fina...   \n",
            "3  U dun say so early hor... U c already then say...   \n",
            "4  Nah I don't think he goes to usf, he lives aro...   \n",
            "\n",
            "                                      processed_text  \n",
            "0  go jurong point crazy available bugis n great ...  \n",
            "1                            ok lar joking wif u oni  \n",
            "2  free entry wkly comp win fa cup final tkts st ...  \n",
            "3                u dun say early hor u c already say  \n",
            "4             nah think goes usf lives around though  \n",
            "\n",
            "Number of unique processed texts: 4994\n",
            "\n",
            "Analyzing feature correlations...\n"
          ]
        },
        {
          "data": {
            "image/png": "[encoded data removed]",
            "text/plain": [
              "<Figure size 1000x600 with 1 Axes>"
            ]
          },
          "metadata": {},
          "output_type": "display_data"
        },
        {
          "name": "stdout",
          "output_type": "stream",
          "text": [
            "\n",
            "Splitting data...\n",
            "\n",
            "Label distribution before splitting:\n",
            "label\n",
            "0    4452\n",
            "1     653\n",
            "Name: count, dtype: int64\n",
            "\n",
            "Train set: 3573 samples\n",
            "Validation set: 765 samples\n",
            "Test set: 767 samples\n",
            "\n",
            "Label distribution in splits:\n",
            "Train: label\n",
            "0    0.877134\n",
            "1    0.122866\n",
            "Name: proportion, dtype: float64\n",
            "Validation: label\n",
            "0    0.852288\n",
            "1    0.147712\n",
            "Name: proportion, dtype: float64\n",
            "Test: label\n",
            "0    0.868318\n",
            "1    0.131682\n",
            "Name: proportion, dtype: float64\n",
            "\n",
            "Train set label distribution:\n",
            "label\n",
            "0    0.877134\n",
            "1    0.122866\n",
            "Name: proportion, dtype: float64\n",
            "\n",
            "Validation set label distribution:\n",
            "label\n",
            "0    0.852288\n",
            "1    0.147712\n",
            "Name: proportion, dtype: float64\n",
            "\n",
            "Test set label distribution:\n",
            "label\n",
            "0    0.868318\n",
            "1    0.131682\n",
            "Name: proportion, dtype: float64\n",
            "\n",
            "Data splits saved successfully\n"
          ]
        }
      ],
      "source": [
        "# Create first version (random_state=42)\n",
        "print(\"\\n\\n==== Creating first version (random_state=42) ====\")\n",
        "data_prep = DataPreparation()\n",
        "# Load raw data\n",
        "df = data_prep.load_data(\"SMSSpamCollection\")\n",
        "\n",
        "# Save raw data\n",
        "df.to_csv(\"raw_data.csv\", index=False)\n",
        "\n",
        "# Process data\n",
        "df = data_prep.remove_duplicates(df)\n",
        "df = data_prep.handle_outliers(df)\n",
        "df = data_prep.analyze_data(df)\n",
        "df = data_prep.prepare_features(df)\n",
        "df = data_prep.analyze_correlations(df)\n",
        "\n",
        "# Split data with random_state=42\n",
        "train_df, val_df, test_df = data_prep.split_data(df, random_state=42)\n",
        "\n",
        "# Save splits\n",
        "data_prep.save_splits(train_df, val_df, test_df)"
      ]
    },
    {
      "cell_type": "code",
      "execution_count": 140,
      "metadata": {},
      "outputs": [
        {
          "name": "stdout",
          "output_type": "stream",
          "text": [
            "\u001b[?25l\u001b[32m⠋\u001b[0m Checking graph                                       core\u001b[39m>\n",
            "  0% Adding...|                          | train.csv |0/3 [00:00<?,     ?file/s]\n",
            "!\u001b[A\n",
            "Collecting files and computing hashes in train.csv    |0.00 [00:00,     ?file/s]\u001b[A\n",
            "                                                                                \u001b[A\n",
            "!\u001b[A\n",
            "  0% Checking cache in '/mnt/c/Users/dhruv/Downloads/AppliedMachineLearning/Assi\u001b[A\n",
            "                                                                                \u001b[A\n",
            "!\u001b[A\n",
            "  0%|          |Checking out /mnt/c/Users/dhruv/Downlo0/1 [00:00<?,    ?files/s]\u001b[A\n",
            "  0% Adding...|                     | validation.csv |0/3 [00:00<?,     ?file/s]\u001b[A\n",
            "!\u001b[A\n",
            "Collecting files and computing hashes in validation.csv |0.00 [00:00,     ?file/\u001b[A\n",
            "                                                                                \u001b[A\n",
            "!\u001b[A\n",
            "  0% Checking cache in '/mnt/c/Users/dhruv/Downloads/AppliedMachineLearning/Assi\u001b[A\n",
            "                                                                                \u001b[A\n",
            "!\u001b[A\n",
            "  0%|          |Checking out /mnt/c/Users/dhruv/Downlo0/1 [00:00<?,    ?files/s]\u001b[A\n",
            " 67% Adding...|███████████████▎       | test.csv |2/3 [00:00<00:00, 14.47file/s]\u001b[A\n",
            "!\u001b[A\n",
            "Collecting files and computing hashes in test.csv     |0.00 [00:00,     ?file/s]\u001b[A\n",
            "                                                                                \u001b[A\n",
            "!\u001b[A\n",
            "  0% Checking cache in '/mnt/c/Users/dhruv/Downloads/AppliedMachineLearning/Assi\u001b[A\n",
            "                                                                                \u001b[A\n",
            "!\u001b[A\n",
            "  0%|          |Checking out /mnt/c/Users/dhruv/Downlo0/1 [00:00<?,    ?files/s]\u001b[A\n",
            "100% Adding...|████████████████████████████████████████|3/3 [00:00, 14.45file/s]\u001b[A\n",
            "\u001b[0m"
          ]
        }
      ],
      "source": [
        "# Add to DVC\n",
        "!dvc add train.csv validation.csv test.csv"
      ]
    },
    {
      "cell_type": "code",
      "execution_count": 141,
      "metadata": {},
      "outputs": [
        {
          "name": "stdout",
          "output_type": "stream",
          "text": [
            "[main e9d870c] First data version with random_state=42\n",
            " 4 files changed, 24 insertions(+)\n",
            " create mode 100644 Assignment_2/raw_data.csv.dvc\n",
            " create mode 100644 Assignment_2/test.csv.dvc\n",
            " create mode 100644 Assignment_2/train.csv.dvc\n",
            " create mode 100644 Assignment_2/validation.csv.dvc\n",
            "\n",
            "First version created and committed\n"
          ]
        }
      ],
      "source": [
        "# Commit the first version\n",
        "!git add raw_data.csv.dvc train.csv.dvc validation.csv.dvc test.csv.dvc\n",
        "!git commit -m \"First data version with random_state=42\"\n",
        "\n",
        "print(\"\\nFirst version created and committed\")"
      ]
    },
    {
      "cell_type": "code",
      "execution_count": 142,
      "metadata": {},
      "outputs": [
        {
          "name": "stdout",
          "output_type": "stream",
          "text": [
            "\n",
            "\n",
            "==== Creating second version (random_state=123) ====\n",
            "\n",
            "Initial data shape: (5572, 2)\n",
            "\n",
            "Sample of loaded data:\n",
            "  label                                            message\n",
            "0   ham  Go until jurong point, crazy.. Available only ...\n",
            "1   ham                      Ok lar... Joking wif u oni...\n",
            "2  spam  Free entry in 2 a wkly comp to win FA Cup fina...\n",
            "3   ham  U dun say so early hor... U c already then say...\n",
            "4   ham  Nah I don't think he goes to usf, he lives aro...\n",
            "\n",
            "Loaded 5572 messages\n",
            "\n",
            "Label distribution:\n",
            "label\n",
            "0    0.865937\n",
            "1    0.134063\n",
            "Name: proportion, dtype: float64\n",
            "\n",
            "Label mapping: 0=ham, 1=spam\n",
            "Removed 403 duplicate messages\n",
            "\n",
            "Performing EDA...\n",
            "\n",
            "Label Distribution:\n",
            "label\n",
            "0    0.872086\n",
            "1    0.127914\n",
            "Name: proportion, dtype: float64\n",
            "\n",
            "Message Length Statistics:\n",
            "        count        mean        std   min    25%    50%    75%    max\n",
            "label                                                                 \n",
            "0      4452.0   66.897350  43.656041   2.0   33.0   52.0   88.0  243.0\n",
            "1       653.0  137.704441  29.821348  13.0  132.0  148.0  157.0  223.0\n",
            "\n",
            "Preparing features...\n",
            "Cleaning text data...\n",
            "\n",
            "Sample of processed texts:\n",
            "                                             message  \\\n",
            "0  Go until jurong point, crazy.. Available only ...   \n",
            "1                      Ok lar... Joking wif u oni...   \n",
            "2  Free entry in 2 a wkly comp to win FA Cup fina...   \n",
            "3  U dun say so early hor... U c already then say...   \n",
            "4  Nah I don't think he goes to usf, he lives aro...   \n",
            "\n",
            "                                      processed_text  \n",
            "0  go jurong point crazy available bugis n great ...  \n",
            "1                            ok lar joking wif u oni  \n",
            "2  free entry wkly comp win fa cup final tkts st ...  \n",
            "3                u dun say early hor u c already say  \n",
            "4             nah think goes usf lives around though  \n",
            "\n",
            "Number of unique processed texts: 4994\n",
            "\n",
            "Analyzing feature correlations...\n"
          ]
        },
        {
          "data": {
            "image/png": "[encoded data removed]",
            "text/plain": [
              "<Figure size 1000x600 with 1 Axes>"
            ]
          },
          "metadata": {},
          "output_type": "display_data"
        },
        {
          "name": "stdout",
          "output_type": "stream",
          "text": [
            "\n",
            "Splitting data...\n",
            "\n",
            "Label distribution before splitting:\n",
            "label\n",
            "0    4452\n",
            "1     653\n",
            "Name: count, dtype: int64\n",
            "\n",
            "Train set: 3573 samples\n",
            "Validation set: 765 samples\n",
            "Test set: 767 samples\n",
            "\n",
            "Label distribution in splits:\n",
            "Train: label\n",
            "0    0.870137\n",
            "1    0.129863\n",
            "Name: proportion, dtype: float64\n",
            "Validation: label\n",
            "0    0.887582\n",
            "1    0.112418\n",
            "Name: proportion, dtype: float64\n",
            "Test: label\n",
            "0    0.865711\n",
            "1    0.134289\n",
            "Name: proportion, dtype: float64\n",
            "\n",
            "Train set label distribution:\n",
            "label\n",
            "0    0.870137\n",
            "1    0.129863\n",
            "Name: proportion, dtype: float64\n",
            "\n",
            "Validation set label distribution:\n",
            "label\n",
            "0    0.887582\n",
            "1    0.112418\n",
            "Name: proportion, dtype: float64\n",
            "\n",
            "Test set label distribution:\n",
            "label\n",
            "0    0.865711\n",
            "1    0.134289\n",
            "Name: proportion, dtype: float64\n",
            "\n",
            "Data splits saved successfully\n"
          ]
        }
      ],
      "source": [
        "# Create second version (random_state=123)\n",
        "print(\"\\n\\n==== Creating second version (random_state=123) ====\")\n",
        "data_prep = DataPreparation()\n",
        "\n",
        "# Load raw data directly from the original source\n",
        "df = data_prep.load_data(\"SMSSpamCollection\")\n",
        "\n",
        "# Process data\n",
        "df = data_prep.remove_duplicates(df)\n",
        "df = data_prep.handle_outliers(df)\n",
        "df = data_prep.analyze_data(df)\n",
        "df = data_prep.prepare_features(df)\n",
        "df = data_prep.analyze_correlations(df)\n",
        "\n",
        "# Split data with random_state=123\n",
        "train_df, val_df, test_df = data_prep.split_data(df, random_state=123)\n",
        "\n",
        "# Save splits\n",
        "data_prep.save_splits(train_df, val_df, test_df)"
      ]
    },
    {
      "cell_type": "code",
      "execution_count": 143,
      "metadata": {},
      "outputs": [
        {
          "name": "stdout",
          "output_type": "stream",
          "text": [
            "\u001b[?25l\u001b[32m⠋\u001b[0m Checking graph                                       core\u001b[39m>\n",
            "  0% Adding...|                          | train.csv |0/3 [00:00<?,     ?file/s]\n",
            "!\u001b[A\n",
            "Collecting files and computing hashes in train.csv    |0.00 [00:00,     ?file/s]\u001b[A\n",
            "                                                                                \u001b[A\n",
            "!\u001b[A\n",
            "  0% Checking cache in '/mnt/c/Users/dhruv/Downloads/AppliedMachineLearning/Assi\u001b[A\n",
            "                                                                                \u001b[A\n",
            "!\u001b[A\n",
            "  0%|          |Checking out /mnt/c/Users/dhruv/Downlo0/1 [00:00<?,    ?files/s]\u001b[A\n",
            "  0% Adding...|                     | validation.csv |0/3 [00:00<?,     ?file/s]\u001b[A\n",
            "!\u001b[A\n",
            "Collecting files and computing hashes in validation.csv |0.00 [00:00,     ?file/\u001b[A\n",
            "                                                                                \u001b[A\n",
            "!\u001b[A\n",
            "  0% Checking cache in '/mnt/c/Users/dhruv/Downloads/AppliedMachineLearning/Assi\u001b[A\n",
            "                                                                                \u001b[A\n",
            "!\u001b[A\n",
            "  0%|          |Checking out /mnt/c/Users/dhruv/Downlo0/1 [00:00<?,    ?files/s]\u001b[A\n",
            " 67% Adding...|███████████████▎       | test.csv |2/3 [00:00<00:00, 13.13file/s]\u001b[A\n",
            "!\u001b[A\n",
            "Collecting files and computing hashes in test.csv     |0.00 [00:00,     ?file/s]\u001b[A\n",
            "                                                                                \u001b[A\n",
            "!\u001b[A\n",
            "  0% Checking cache in '/mnt/c/Users/dhruv/Downloads/AppliedMachineLearning/Assi\u001b[A\n",
            "                                                                                \u001b[A\n",
            "!\u001b[A\n",
            "  0%|          |Checking out /mnt/c/Users/dhruv/Downlo0/1 [00:00<?,    ?files/s]\u001b[A\n",
            "100% Adding...|████████████████████████████████████████|3/3 [00:00, 13.41file/s]\u001b[A\n",
            "\u001b[0m"
          ]
        }
      ],
      "source": [
        "# Update DVC\n",
        "!dvc add train.csv validation.csv test.csv"
      ]
    },
    {
      "cell_type": "code",
      "execution_count": 144,
      "metadata": {},
      "outputs": [
        {
          "name": "stdout",
          "output_type": "stream",
          "text": [
            "raw_data.csv.dvc:                                                               \n",
            "\tchanged outs:\n",
            "\t\tmodified:           raw_data.csv\n",
            "\u001b[0m"
          ]
        }
      ],
      "source": [
        "!dvc status"
      ]
    },
    {
      "cell_type": "code",
      "execution_count": 145,
      "metadata": {},
      "outputs": [
        {
          "name": "stdout",
          "output_type": "stream",
          "text": [
            "[main b69f9b7] Second data version with random_state=123\n",
            " 3 files changed, 6 insertions(+), 6 deletions(-)\n",
            "\n",
            "Second version created and committed\n"
          ]
        }
      ],
      "source": [
        "# Commit the second version\n",
        "!git add train.csv.dvc validation.csv.dvc test.csv.dvc\n",
        "!git commit -m \"Second data version with random_state=123\"\n",
        "\n",
        "print(\"\\nSecond version created and committed\")"
      ]
    },
    {
      "cell_type": "code",
      "execution_count": 146,
      "metadata": {},
      "outputs": [
        {
          "name": "stdout",
          "output_type": "stream",
          "text": [
            "\n",
            "\n",
            "==== Checking out first version (random_state=42) ====\n",
            "e9d870c\n"
          ]
        }
      ],
      "source": [
        "print(\"\\n\\n==== Checking out first version (random_state=42) ====\")\n",
        "# Get the first commit hash\n",
        "!git log --oneline | grep \"First data version\" | cut -d \" \" -f 1"
      ]
    },
    {
      "cell_type": "code",
      "execution_count": 147,
      "metadata": {},
      "outputs": [
        {
          "name": "stdout",
          "output_type": "stream",
          "text": [
            "Building workspace index                              |3.00 [00:00,  206entry/s]\n",
            "Comparing indexes                                    |4.00 [00:00, 4.20kentry/s]\n",
            "Applying changes                                      |3.00 [00:00,  47.9file/s]\n",
            "\u001b[33mM\u001b[0m       train.csv\n",
            "\u001b[33mM\u001b[0m       validation.csv\n",
            "\u001b[33mM\u001b[0m       test.csv\n",
            "\u001b[0m"
          ]
        }
      ],
      "source": [
        "commit_hash = 'e9d870c'\n",
        "\n",
        "# Checkout the data from the first version\n",
        "!git checkout {commit_hash} -- train.csv.dvc validation.csv.dvc test.csv.dvc\n",
        "!dvc checkout train.csv validation.csv test.csv"
      ]
    },
    {
      "cell_type": "code",
      "execution_count": 148,
      "metadata": {},
      "outputs": [
        {
          "name": "stdout",
          "output_type": "stream",
          "text": [
            "\n",
            "Distribution of target variable in first version:\n",
            "\n",
            "Train.csv distribution:\n",
            "label\n",
            "0    3134\n",
            "1     439\n",
            "Name: count, dtype: int64\n",
            "\n",
            "Validation.csv distribution:\n",
            "label\n",
            "0    652\n",
            "1    113\n",
            "Name: count, dtype: int64\n",
            "\n",
            "Test.csv distribution:\n",
            "label\n",
            "0    666\n",
            "1    101\n",
            "Name: count, dtype: int64\n"
          ]
        }
      ],
      "source": [
        "# Load and print distributions\n",
        "print(\"\\nDistribution of target variable in first version:\")\n",
        "train_df = pd.read_csv(\"train.csv\")\n",
        "val_df = pd.read_csv(\"validation.csv\")\n",
        "test_df = pd.read_csv(\"test.csv\")\n",
        "\n",
        "print(\"\\nTrain.csv distribution:\")\n",
        "print(train_df['label'].value_counts())\n",
        "\n",
        "print(\"\\nValidation.csv distribution:\")\n",
        "print(val_df['label'].value_counts())\n",
        "\n",
        "print(\"\\nTest.csv distribution:\")\n",
        "print(test_df['label'].value_counts())"
      ]
    },
    {
      "cell_type": "code",
      "execution_count": 149,
      "metadata": {},
      "outputs": [
        {
          "name": "stdout",
          "output_type": "stream",
          "text": [
            "\n",
            "\n",
            "==== Checking out second version (random_state=123) ====\n",
            "b69f9b7\n"
          ]
        }
      ],
      "source": [
        "# Checkout the second version and print distributions\n",
        "print(\"\\n\\n==== Checking out second version (random_state=123) ====\")\n",
        "# Get the second commit hash\n",
        "!git log --oneline | grep \"Second data version\" | cut -d \" \" -f 1"
      ]
    },
    {
      "cell_type": "code",
      "execution_count": 150,
      "metadata": {},
      "outputs": [
        {
          "name": "stdout",
          "output_type": "stream",
          "text": [
            "Building workspace index                              |3.00 [00:00,  202entry/s]\n",
            "Comparing indexes                                    |4.00 [00:00, 5.14kentry/s]\n",
            "Applying changes                                      |3.00 [00:00,  46.9file/s]\n",
            "\u001b[33mM\u001b[0m       train.csv\n",
            "\u001b[33mM\u001b[0m       validation.csv\n",
            "\u001b[33mM\u001b[0m       test.csv\n",
            "\u001b[0m"
          ]
        }
      ],
      "source": [
        "commit_hash = 'b69f9b7'\n",
        "\n",
        "# Checkout the data from the second version\n",
        "!git checkout {commit_hash} -- train.csv.dvc validation.csv.dvc test.csv.dvc\n",
        "!dvc checkout train.csv validation.csv test.csv"
      ]
    },
    {
      "cell_type": "code",
      "execution_count": 151,
      "metadata": {},
      "outputs": [
        {
          "name": "stdout",
          "output_type": "stream",
          "text": [
            "\n",
            "Distribution of target variable in second version:\n",
            "\n",
            "Train.csv distribution:\n",
            "label\n",
            "0    3109\n",
            "1     464\n",
            "Name: count, dtype: int64\n",
            "\n",
            "Validation.csv distribution:\n",
            "label\n",
            "0    679\n",
            "1     86\n",
            "Name: count, dtype: int64\n",
            "\n",
            "Test.csv distribution:\n",
            "label\n",
            "0    664\n",
            "1    103\n",
            "Name: count, dtype: int64\n"
          ]
        }
      ],
      "source": [
        "# Load and print distributions\n",
        "print(\"\\nDistribution of target variable in second version:\")\n",
        "train_df = pd.read_csv(\"train.csv\")\n",
        "val_df = pd.read_csv(\"validation.csv\")\n",
        "test_df = pd.read_csv(\"test.csv\")\n",
        "\n",
        "print(\"\\nTrain.csv distribution:\")\n",
        "print(train_df['label'].value_counts())\n",
        "\n",
        "print(\"\\nValidation.csv distribution:\")\n",
        "print(val_df['label'].value_counts())\n",
        "\n",
        "print(\"\\nTest.csv distribution:\")\n",
        "print(test_df['label'].value_counts())"
      ]
    },
    {
      "cell_type": "code",
      "execution_count": null,
      "metadata": {},
      "outputs": [],
      "source": []
    }
  ],
  "metadata": {
    "colab": {
      "provenance": []
    },
    "kernelspec": {
      "display_name": "llm",
      "language": "python",
      "name": "python3"
    },
    "language_info": {
      "codemirror_mode": {
        "name": "ipython",
        "version": 3
      },
      "file_extension": ".py",
      "mimetype": "text/x-python",
      "name": "python",
      "nbconvert_exporter": "python",
      "pygments_lexer": "ipython3",
      "version": "3.11.11"
    }
  },
  "nbformat": 4,
  "nbformat_minor": 0
}
